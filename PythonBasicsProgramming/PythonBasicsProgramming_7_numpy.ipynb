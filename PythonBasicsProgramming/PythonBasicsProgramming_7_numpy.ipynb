{
 "cells": [
  {
   "cell_type": "markdown",
   "id": "6cd68bda",
   "metadata": {},
   "source": [
    "1.\tWrite a Python Program to find sum of array?\n",
    "2.\tWrite a Python Program to find largest element in an array?\n",
    "3.\tWrite a Python Program for array rotation?\n",
    "4.\tWrite a Python Program to Split the array and add the first part to the end?\n",
    "5.\tWrite a Python Program to check if given array is Monotonic?"
   ]
  },
  {
   "cell_type": "code",
   "execution_count": 2,
   "id": "3b419084",
   "metadata": {},
   "outputs": [
    {
     "name": "stdout",
     "output_type": "stream",
     "text": [
      "21\n"
     ]
    }
   ],
   "source": [
    "##\n",
    "## 1) Write a Python Program to find sum of array?\n",
    "##\n",
    "import numpy as np\n",
    "\n",
    "arr = np.array([1,2,3,4,5,6])\n",
    "summ = arr.sum()\n",
    "print(summ)"
   ]
  },
  {
   "cell_type": "code",
   "execution_count": 3,
   "id": "6c5cfa31",
   "metadata": {},
   "outputs": [
    {
     "name": "stdout",
     "output_type": "stream",
     "text": [
      "6\n"
     ]
    }
   ],
   "source": [
    "##\n",
    "## Write a Python Program to find largest element in an array?\n",
    "##\n",
    "\n",
    "import numpy as np\n",
    "\n",
    "arr = np.array([1,2,3,4,5,6])\n",
    "arrmax = arr.max()\n",
    "print(arrmax)"
   ]
  },
  {
   "cell_type": "code",
   "execution_count": null,
   "id": "65812e89",
   "metadata": {},
   "outputs": [],
   "source": [
    "##\n",
    "## 3) Write a Python Program for array rotation?\n",
    "##\n",
    "\n",
    "import numpy as np\n",
    "\n",
    "arr = np.array([1,2,3,4,5,6])\n",
    "arrmax = arr.max()\n",
    "print(arrmax)"
   ]
  }
 ],
 "metadata": {
  "kernelspec": {
   "display_name": "Python 3",
   "language": "python",
   "name": "python3"
  },
  "language_info": {
   "codemirror_mode": {
    "name": "ipython",
    "version": 3
   },
   "file_extension": ".py",
   "mimetype": "text/x-python",
   "name": "python",
   "nbconvert_exporter": "python",
   "pygments_lexer": "ipython3",
   "version": "3.8.8"
  }
 },
 "nbformat": 4,
 "nbformat_minor": 5
}
