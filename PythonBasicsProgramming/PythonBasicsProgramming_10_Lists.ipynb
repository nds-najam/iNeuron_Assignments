{
 "cells": [
  {
   "cell_type": "markdown",
   "id": "f9fce16a",
   "metadata": {},
   "source": [
    "1.\tWrite a Python program to find sum of elements in list?\n",
    "2.\tWrite a Python program to  Multiply all numbers in the list?\n",
    "3.\tWrite a Python program to find smallest number in a list?\n",
    "4.\tWrite a Python program to find largest number in a list?\n",
    "5.\tWrite a Python program to find second largest number in a list?\n",
    "6.\tWrite a Python program to find N largest elements from a list?\n",
    "7.\tWrite a Python program to print even numbers in a list?\n",
    "8.\tWrite a Python program to print odd numbers in a List?\n",
    "9.\tWrite a Python program to Remove empty List from List?\n",
    "10.\tWrite a Python program to Cloning or Copying a list?\n",
    "11.\tWrite a Python program to Count occurrences of an element in a list?"
   ]
  },
  {
   "cell_type": "code",
   "execution_count": 3,
   "id": "50813b30",
   "metadata": {},
   "outputs": [
    {
     "name": "stdout",
     "output_type": "stream",
     "text": [
      "45\n"
     ]
    }
   ],
   "source": [
    "##\n",
    "## 1) Sum of elements in list\n",
    "##\n",
    "\n",
    "list1 = [1,2,3,4,5,6,7,8,9]\n",
    "lsum = sum(list1)\n",
    "print(lsum)"
   ]
  },
  {
   "cell_type": "code",
   "execution_count": 1,
   "id": "8280954b",
   "metadata": {},
   "outputs": [
    {
     "name": "stdout",
     "output_type": "stream",
     "text": [
      "The product of list of all elements =  362880\n"
     ]
    }
   ],
   "source": [
    "##\n",
    "## 2) Multiply all numbers in a list\n",
    "##\n",
    "list1 = [1,2,3,4,5,6,7,8,9]\n",
    "prod = 1\n",
    "for x in list1:\n",
    "    prod = prod*x\n",
    "\n",
    "print(\"The product of list of all elements = \",prod)\n"
   ]
  },
  {
   "cell_type": "code",
   "execution_count": 2,
   "id": "5cf89258",
   "metadata": {},
   "outputs": [
    {
     "name": "stdout",
     "output_type": "stream",
     "text": [
      "min =  1\n"
     ]
    }
   ],
   "source": [
    "##\n",
    "## 3) Write a Python program to find smallest number in a list?\n",
    "##\n",
    "list1 = [1,2,3,4,5,6,7,8,9]\n",
    "minn = min(list1)\n",
    "print(\"min = \",minn)"
   ]
  },
  {
   "cell_type": "code",
   "execution_count": 3,
   "id": "4494a255",
   "metadata": {},
   "outputs": [
    {
     "name": "stdout",
     "output_type": "stream",
     "text": [
      "max =  9\n"
     ]
    }
   ],
   "source": [
    "##\n",
    "## 4) Write a Python program to find largest number in a list?\n",
    "##\n",
    "list1 = [1,2,3,4,5,6,7,8,9]\n",
    "maxx = max(list1)\n",
    "print(\"max = \",maxx)"
   ]
  },
  {
   "cell_type": "code",
   "execution_count": 16,
   "id": "243a9832",
   "metadata": {},
   "outputs": [
    {
     "name": "stdout",
     "output_type": "stream",
     "text": [
      "The second largest number is  8\n"
     ]
    }
   ],
   "source": [
    "##\n",
    "## 5) Write a Python program to find second largest number in a list?\n",
    "##\n",
    "list1 = [1,2,3,4,5,6,7,8,9]\n",
    "maxx = max(list1)\n",
    "list1.remove(maxx)\n",
    "print(\"The second largest number is \",max(list1))"
   ]
  },
  {
   "cell_type": "code",
   "execution_count": 18,
   "id": "5af2113c",
   "metadata": {},
   "outputs": [
    {
     "name": "stdout",
     "output_type": "stream",
     "text": [
      "n largest elements in a list are  [9, 8, 7]\n"
     ]
    }
   ],
   "source": [
    "##\n",
    "## 6) Write a Python program to find N largest elements from a list?\n",
    "##\n",
    "n = 3\n",
    "nmax = []\n",
    "list1 = [1,2,3,4,5,6,7,8,9]\n",
    "for x in range(3):\n",
    "    maxx = max(list1)\n",
    "    nmax.append(maxx)\n",
    "    list1.remove(maxx)\n",
    "print(\"n largest elements in a list are \",nmax)"
   ]
  },
  {
   "cell_type": "code",
   "execution_count": 19,
   "id": "4e6958b5",
   "metadata": {},
   "outputs": [
    {
     "name": "stdout",
     "output_type": "stream",
     "text": [
      "Even numbers are  [2, 4, 6, 8]\n"
     ]
    }
   ],
   "source": [
    "##\n",
    "## 7) Write a Python program to print even numbers in a list?\n",
    "##\n",
    "list1 = [1,2,3,4,5,6,7,8,9]\n",
    "even = [i for i in list1 if i%2 == 0]\n",
    "print(\"Even numbers are \",even)"
   ]
  },
  {
   "cell_type": "code",
   "execution_count": 20,
   "id": "542968a2",
   "metadata": {},
   "outputs": [
    {
     "name": "stdout",
     "output_type": "stream",
     "text": [
      "Odd numbers are  [1, 3, 5, 7, 9]\n"
     ]
    }
   ],
   "source": [
    "##\n",
    "## 8) Write a Python program to print odd numbers in a list?\n",
    "##\n",
    "list1 = [1,2,3,4,5,6,7,8,9]\n",
    "odd = [i for i in list1 if i%2 != 0]\n",
    "print(\"Odd numbers are \",odd)"
   ]
  },
  {
   "cell_type": "code",
   "execution_count": 22,
   "id": "9c93dad4",
   "metadata": {},
   "outputs": [
    {
     "name": "stdout",
     "output_type": "stream",
     "text": [
      "List witout empty lists is  [1, 2, 3, [1, 2], [3, 4], 5, 6]\n"
     ]
    }
   ],
   "source": [
    "##\n",
    "## 9) Write a Python program to Remove empty List from List?\n",
    "##\n",
    "list2 = [1,2,3,[1,2],[],[3,4],5,6]\n",
    "nlist = []\n",
    "for x in list2:\n",
    "    if type(x) == list and len(x) == 0:\n",
    "        pass\n",
    "    else:\n",
    "        nlist.append(x)\n",
    "print(\"List witout empty lists is \",nlist)"
   ]
  },
  {
   "cell_type": "code",
   "execution_count": 23,
   "id": "d52dac48",
   "metadata": {},
   "outputs": [
    {
     "name": "stdout",
     "output_type": "stream",
     "text": [
      "[1, 2, 3, [1, 2], [], [3, 4], 5, 6]\n"
     ]
    }
   ],
   "source": [
    "##\n",
    "## 10) Write a Python program to Cloning or Copying a list?\n",
    "##\n",
    "list1 = [1,2,3,[1,2],[],[3,4],5,6]\n",
    "list2 = list1[:]\n",
    "print(list2)"
   ]
  },
  {
   "cell_type": "code",
   "execution_count": 25,
   "id": "8023a54e",
   "metadata": {},
   "outputs": [
    {
     "name": "stdout",
     "output_type": "stream",
     "text": [
      "The count of occurences of 2 in the list is 3\n"
     ]
    }
   ],
   "source": [
    "##\n",
    "## 11) Write a Python program to Count occurrences of an element in a list?\n",
    "##\n",
    "elem = 2\n",
    "list3 = [1,2,3,4,5,3,2,2,1,9,10]\n",
    "count = list3.count(elem)\n",
    "print(\"The count of occurences of %d in the list is %d\" %(elem,count))"
   ]
  }
 ],
 "metadata": {
  "kernelspec": {
   "display_name": "Python 3",
   "language": "python",
   "name": "python3"
  },
  "language_info": {
   "codemirror_mode": {
    "name": "ipython",
    "version": 3
   },
   "file_extension": ".py",
   "mimetype": "text/x-python",
   "name": "python",
   "nbconvert_exporter": "python",
   "pygments_lexer": "ipython3",
   "version": "3.8.8"
  }
 },
 "nbformat": 4,
 "nbformat_minor": 5
}
