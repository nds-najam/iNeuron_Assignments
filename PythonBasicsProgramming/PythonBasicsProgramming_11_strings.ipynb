{
 "cells": [
  {
   "cell_type": "markdown",
   "id": "1abde790",
   "metadata": {},
   "source": [
    "1.\tWrite a Python program to find words which are greater than given length k?\n",
    "2.\tWrite a Python program for removing i-th character from a string?\n",
    "3.\tWrite a Python program to split and join a string?\n",
    "4.\tWrite a Python to check if a given string is binary string or not?\n",
    "5.\tWrite a Python program to find uncommon words from two Strings?\n",
    "6.\tWrite a Python to find all duplicate characters in string?\n",
    "7.\tWrite a Python Program to check if a string contains any special character?"
   ]
  },
  {
   "cell_type": "code",
   "execution_count": null,
   "id": "a05ab832",
   "metadata": {},
   "outputs": [],
   "source": []
  }
 ],
 "metadata": {
  "kernelspec": {
   "display_name": "Python 3",
   "language": "python",
   "name": "python3"
  },
  "language_info": {
   "codemirror_mode": {
    "name": "ipython",
    "version": 3
   },
   "file_extension": ".py",
   "mimetype": "text/x-python",
   "name": "python",
   "nbconvert_exporter": "python",
   "pygments_lexer": "ipython3",
   "version": "3.8.8"
  }
 },
 "nbformat": 4,
 "nbformat_minor": 5
}
