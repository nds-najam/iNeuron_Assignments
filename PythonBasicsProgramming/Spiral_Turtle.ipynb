{
 "cells": [
  {
   "cell_type": "code",
   "execution_count": 3,
   "id": "4db8ac91",
   "metadata": {},
   "outputs": [],
   "source": [
    "import turtle\n",
    "# make the random module available for us to use\n",
    "# this one allows us to generate random numbers!\n",
    "import random\n",
    "# create a stamp\n",
    "stamp = turtle.Turtle()\n",
    "# make it a turtle shape\n",
    "stamp.shape('turtle')\n",
    "# lift the color of the stamp so we don't draw a\n",
    "stamp.penup()\n",
    "# set RGB color mode to allow random colors in RGB\n",
    "turtle.colormode(255)\n",
    "# set some variables\n",
    "# one for the initial distance to move (paces)\n",
    "# and three more to hold the starting RGB values\n",
    "paces = 20\n",
    "random_red = 50\n",
    "random_green = 50\n",
    "random_blue = 50\n",
    "# start a for loop to repeat the stamping code\n",
    "# repeat 50 times\n",
    "for i in range(50):\n",
    "    # use random function to pick a random number for the red value\n",
    "    random_red = random.randint(0, 255)\n",
    "    # repeat random function for green\n",
    "    random_green = random.randint(0, 255)\n",
    "    # repeat random function for blue\n",
    "    random_blue = random.randint(0, 255)\n",
    "    # set the stamp color with the randomly chosen RGB values\n",
    "    stamp.color(random_red, random_green,random_blue)\n",
    "    # STAMP! Stamp a turtle with the colors from the last step\n",
    "    stamp.stamp()\n",
    "    # add more paces\n",
    "    paces += 3\n",
    "    # move forward by the new number of paces\n",
    "    stamp.forward(paces)\n",
    "    # slightly turn direction as we move to start spiraling\n",
    "    stamp.right(25)"
   ]
  },
  {
   "cell_type": "code",
   "execution_count": null,
   "id": "0f4e0331",
   "metadata": {},
   "outputs": [],
   "source": []
  }
 ],
 "metadata": {
  "kernelspec": {
   "display_name": "Python 3",
   "language": "python",
   "name": "python3"
  },
  "language_info": {
   "codemirror_mode": {
    "name": "ipython",
    "version": 3
   },
   "file_extension": ".py",
   "mimetype": "text/x-python",
   "name": "python",
   "nbconvert_exporter": "python",
   "pygments_lexer": "ipython3",
   "version": "3.8.8"
  }
 },
 "nbformat": 4,
 "nbformat_minor": 5
}
