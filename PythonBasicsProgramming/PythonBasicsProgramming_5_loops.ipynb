{
 "cells": [
  {
   "cell_type": "code",
   "execution_count": 33,
   "id": "d404730c",
   "metadata": {},
   "outputs": [
    {
     "name": "stdout",
     "output_type": "stream",
     "text": [
      "Enter the first number: 50\n",
      "Enter the second number: 2.5\n",
      "Please select integer numbers\n"
     ]
    }
   ],
   "source": [
    "##\n",
    "## 1.\tWrite a Python Program to Find LCM?\n",
    "##\n",
    "try:\n",
    "    num1 = int(input(\"Enter the first number: \"))\n",
    "    num2 = int(input(\"Enter the second number: \"))\n",
    "\n",
    "    if num1 > num2:\n",
    "        greater = num1\n",
    "    else:\n",
    "        greater = num2\n",
    "\n",
    "    while True:\n",
    "        if (greater % num1 == 0) and (greater % num2 == 0):\n",
    "            break\n",
    "        greater += 1\n",
    "\n",
    "    print(\"The LCM of %d and %d is %d\" %(num1,num2,greater))\n",
    "    \n",
    "except:\n",
    "    print(\"Please select integer numbers\")"
   ]
  },
  {
   "cell_type": "code",
   "execution_count": 35,
   "id": "d918a739",
   "metadata": {},
   "outputs": [
    {
     "name": "stdout",
     "output_type": "stream",
     "text": [
      "Enter the first number: 36\n",
      "Enter the second number: 45\n",
      "The HCF of 36 and 45 is 9\n"
     ]
    }
   ],
   "source": [
    "##\n",
    "## 2.\tWrite a Python Program to Find HCF?\n",
    "##\n",
    "try:\n",
    "    num1 = int(input(\"Enter the first number: \"))\n",
    "    num2 = int(input(\"Enter the second number: \"))\n",
    "\n",
    "    if num1 < num2:\n",
    "        smaller = num1\n",
    "    else:\n",
    "        smaller = num2\n",
    "\n",
    "    while True:\n",
    "        if (num1 % smaller == 0) and (num2 % smaller == 0):\n",
    "            break\n",
    "        smaller -= 1\n",
    "\n",
    "    print(\"The HCF of %d and %d is %d\" %(num1,num2,smaller))\n",
    "    \n",
    "except:\n",
    "    print(\"Please select integer numbers\")"
   ]
  },
  {
   "cell_type": "code",
   "execution_count": 26,
   "id": "47483e51",
   "metadata": {},
   "outputs": [
    {
     "name": "stdout",
     "output_type": "stream",
     "text": [
      "Enter your decimal number: 257\n",
      "\n",
      "\n",
      "1) Choose 'b' for Binary: \n",
      "2) Choose 'o' for Octal: \n",
      "3) Choose 'h' for Hexadecimal: \n",
      "\n",
      "Enter the number system to convert: h\n",
      "The hexadecimal number equivalent to given decimal number 257 is 101\n",
      "Hexadecimal number from built-in function is:  0x101\n"
     ]
    }
   ],
   "source": [
    "##\n",
    "## 3.\tWrite a Python Program to Convert Decimal to Binary, Octal and Hexadecimal?\n",
    "## dividend, divisor, quotient, remainder\n",
    "##\n",
    "\n",
    "def dec2binoct(num,system):\n",
    "    newnum = \"\"\n",
    "    ##\n",
    "    ## Selecting base\n",
    "    ##\n",
    "    if system == 'b':\n",
    "        base = 2\n",
    "    elif system == 'o':\n",
    "        base = 8\n",
    "    else:\n",
    "        return\n",
    "    \n",
    "    while True:\n",
    "        quotient = num//base\n",
    "        if quotient > 0:\n",
    "            remainder = str(num % base)\n",
    "            newnum = remainder + newnum\n",
    "            num = quotient\n",
    "        else:\n",
    "            newnum = str(num) + newnum\n",
    "            break\n",
    "    return int(newnum)\n",
    "\n",
    "def hexrem(remainder):\n",
    "    ##\n",
    "    ## Hexadecimal values\n",
    "    ##\n",
    "    if remainder == 10:\n",
    "        remainder = \"A\"\n",
    "    elif remainder == 11:\n",
    "        remainder = \"B\"\n",
    "    elif remainder == 12:\n",
    "        remainder = \"C\"\n",
    "    elif remainder == 13:\n",
    "        remainder = \"D\"\n",
    "    elif remainder == 14:\n",
    "        remainder = \"E\"\n",
    "    elif remainder == 15:\n",
    "        remainder = \"F\"\n",
    "    else:\n",
    "        remainder = str(remainder)\n",
    "        \n",
    "    return remainder\n",
    "    \n",
    "def dec2hex(num):\n",
    "    newnum =\"\"\n",
    "    while True:\n",
    "        quotient = num//16\n",
    "        if quotient > 0:\n",
    "            remainder = str(num % 16)\n",
    "            hexrem(remainder)\n",
    "            newnum = remainder + newnum\n",
    "            num = quotient\n",
    "        else:\n",
    "            newnum = hexrem(num) + newnum\n",
    "            break\n",
    "    return int(newnum)\n",
    "    \n",
    "    \n",
    "    \n",
    "num = int(input(\"Enter your decimal number: \"))\n",
    "print(\"\\n\")\n",
    "print(\"1) Choose 'b' for Binary: \")\n",
    "print(\"2) Choose 'o' for Octal: \")\n",
    "print(\"3) Choose 'h' for Hexadecimal: \")\n",
    "system = input(\"\\nEnter the number system to convert: \")\n",
    "if system == 'b':\n",
    "    print(\"The binary number equivalent to given decimal number %d is %d\" %(num,dec2binoct(num,system)))\n",
    "    print(\"The binary number from built in function is: \",bin(num))\n",
    "elif system == 'o':\n",
    "    print(\"The octal number equivalent to given decimal number %d is %d\" %(num,dec2binoct(num,system)))\n",
    "    print(\"Octal number from built-in function is: \",oct(num))\n",
    "elif system == 'h':\n",
    "    print(\"The hexadecimal number equivalent to given decimal number %d is %d\" %(num,dec2hex(num)))\n",
    "    print(\"Hexadecimal number from built-in function is: \",hex(num))\n",
    "else:\n",
    "    print(\"Enter correct choice!\")"
   ]
  },
  {
   "cell_type": "code",
   "execution_count": 29,
   "id": "c71f6f91",
   "metadata": {},
   "outputs": [
    {
     "name": "stdout",
     "output_type": "stream",
     "text": [
      "Enter your choice of character to find the ASCII value of it: t\n",
      "The ASCII value of a character 't' is 116\n"
     ]
    }
   ],
   "source": [
    "##\n",
    "## 4.\tWrite a Python Program To Find ASCII value of a character?\n",
    "##\n",
    "char = input(\"Enter your choice of character to find the ASCII value of it: \")\n",
    "if len(char) > 1:\n",
    "    print(\"Enter a single character\")\n",
    "else:\n",
    "    ascii = ord(char)\n",
    "    print(\"The ASCII value of a character '%c' is %d\" %(char,ascii))"
   ]
  },
  {
   "cell_type": "code",
   "execution_count": 22,
   "id": "d87c9faa",
   "metadata": {},
   "outputs": [
    {
     "name": "stdout",
     "output_type": "stream",
     "text": [
      "Do you want to continue?\n",
      "Choose 'Y' to continue \n",
      "Press 'N' to exit\n",
      "Enter your choice: y\n",
      "\n",
      "\n",
      "Enter the first number: 25\n",
      "Enter the second number: 30\n",
      "\n",
      "\n",
      "Please find the below operations\n",
      "\n",
      "1: Addition \n",
      "2: Subtraction \n",
      "3: Multiplication \n",
      "4: Division \n",
      "5: Exit\n",
      "\n",
      "\n",
      "Enter your choice of operation: 3\n",
      "\n",
      "You chose 'Multiplication'\n",
      "\n",
      "The product of 25.000000 and 30.000000 is 750.000000\n",
      "Do you want to continue?\n",
      "Choose 'Y' to continue \n",
      "Press 'N' to exit\n",
      "Enter your choice: n\n"
     ]
    }
   ],
   "source": [
    "##\n",
    "## 5.\tWrite a Python Program to Make a Simple Calculator with 4 basic mathematical operations?\n",
    "##\n",
    "## Calculator\n",
    "## 1) Addition\n",
    "## 2) Subtraction\n",
    "## 3) Multiplication\n",
    "## 4) Division\n",
    "##\n",
    "\n",
    "\n",
    "while True:\n",
    "    hint = input(\"Do you want to continue?\\nChoose 'Y' to continue \\nPress 'N' to exit\\nEnter your choice: \")\n",
    "    if hint == 'Y' or hint == 'y':\n",
    "        pass\n",
    "    elif hint == 'N' or hint == 'n':\n",
    "        break\n",
    "    else:\n",
    "        print(\"Wrong choice\")\n",
    "        continue\n",
    "    num1 = float(input(\"\\nEnter the first number: \"))\n",
    "    num2 = float(input(\"Enter the second number: \"))\n",
    "    print(\"\\nPlease find the operations\")\n",
    "    print(\"\\n1: Addition \\n2: Subtraction \\n3: Multiplication \\n4: Division \\n5: Exit\")\n",
    "    oper = int(input(\"\\n\\nEnter your choice of operation: \"))\n",
    "    if oper == 1:\n",
    "        print(\"\\nYou chose 'Addition'\\n\")\n",
    "        print(\"The sum of %f and %f is %f\" %(num1,num2,num1+num2))\n",
    "    elif oper == 2:\n",
    "        print(\"\\nYou chose 'Subtraction'\\n\")\n",
    "        print(\"The subtraction of %f from %f is %f\" %(num2,num1,num1-num2))\n",
    "        print(\"The subtraction of %f from %f is %f\" %(num1,num2,num2-num1))\n",
    "    elif oper == 3:\n",
    "        print(\"\\nYou chose 'Multiplication'\\n\")\n",
    "        print(\"The product of %f and %f is %f\" %(num1,num2,num1*num2))\n",
    "    elif oper == 4:\n",
    "        print(\"\\nYou chose 'Division'\\n\")\n",
    "        if num1 == 0 and num2 == 0:\n",
    "            print(\"Invalid choice of numbers for division\")\n",
    "        elif num1 == 0 and num2 != 0:\n",
    "            print(\"The division of %f by %f is 0\" %(num1,num2))\n",
    "            print(\"The division of %f by %f is invalid operation\" %(num2,num1))\n",
    "        elif num1 != 0 and num2 == 0:\n",
    "            print(\"The division of %f by %f is 0\" %(num2,num1))\n",
    "            print(\"The division of %f by %f is invalid operation\" %(num1,num2))\n",
    "        else:\n",
    "            print(\"The division of %f by %f is %f\" %(num1,num2,num1/num2))\n",
    "            print(\"The division of %f by %f is %f\" %(num2,num1,num2/num1))\n",
    "    elif oper == 5:\n",
    "        break\n",
    "    else:\n",
    "        print(\"Choose correct operation\")\n",
    "        #print(\"1: Addition \\n2: Subtraction \\n3: Multiplication \\n4: Division \\n5: Exit\")\n"
   ]
  },
  {
   "cell_type": "code",
   "execution_count": 20,
   "id": "08093ee8",
   "metadata": {},
   "outputs": [
    {
     "name": "stdout",
     "output_type": "stream",
     "text": [
      "ÿ\n"
     ]
    }
   ],
   "source": [
    "print(\"\\x\")"
   ]
  },
  {
   "cell_type": "code",
   "execution_count": null,
   "id": "525ff0e9",
   "metadata": {},
   "outputs": [],
   "source": []
  }
 ],
 "metadata": {
  "kernelspec": {
   "display_name": "Python 3",
   "language": "python",
   "name": "python3"
  },
  "language_info": {
   "codemirror_mode": {
    "name": "ipython",
    "version": 3
   },
   "file_extension": ".py",
   "mimetype": "text/x-python",
   "name": "python",
   "nbconvert_exporter": "python",
   "pygments_lexer": "ipython3",
   "version": "3.8.8"
  }
 },
 "nbformat": 4,
 "nbformat_minor": 5
}
