{
 "cells": [
  {
   "cell_type": "markdown",
   "id": "8d981884",
   "metadata": {},
   "source": [
    "1.\tWrite a Python Program to Display Fibonacci Sequence Using Recursion?\n",
    "2.\tWrite a Python Program to Find Factorial of Number Using Recursion?\n",
    "3.\tWrite a Python Program to calculate your Body Mass Index?\n",
    "4.\tWrite a Python Program to calculate the natural logarithm of any number?\n",
    "5.\tWrite a Python Program for cube sum of first n natural numbers?"
   ]
  },
  {
   "cell_type": "code",
   "execution_count": 12,
   "id": "b2415109",
   "metadata": {},
   "outputs": [
    {
     "name": "stdout",
     "output_type": "stream",
     "text": [
      "Fibonacci series:\n",
      "0\n",
      "1\n",
      "1\n",
      "2\n"
     ]
    }
   ],
   "source": [
    "##\n",
    "## 1) Write a Python Program to Display Fibonacci Sequence Using Recursion?\n",
    "##\n",
    "\n",
    "# Program to print the fibonacci series upto n_terms\n",
    "  \n",
    "# Recursive function\n",
    "def recursive_fibonacci(n):\n",
    "    if n <= 1:\n",
    "        return n\n",
    "    else:\n",
    "        return(recursive_fibonacci(n-1) + recursive_fibonacci(n-2))\n",
    "   \n",
    "n_terms = 4\n",
    "   \n",
    "# check if the number of terms is valid\n",
    "if n_terms <= 0:\n",
    "    print(\"Invalid input ! Please input a positive value\")\n",
    "else:\n",
    "   print(\"Fibonacci series:\")\n",
    "   for i in range(n_terms):\n",
    "        print(recursive_fibonacci(i))"
   ]
  },
  {
   "cell_type": "code",
   "execution_count": 17,
   "id": "87e297fa",
   "metadata": {},
   "outputs": [
    {
     "name": "stdout",
     "output_type": "stream",
     "text": [
      "Enter your number: 3\n",
      "Factorial of 3 is 6\n"
     ]
    }
   ],
   "source": [
    "##\n",
    "## 2) Write a Python Program to Find Factorial of Number Using Recursion?\n",
    "##\n",
    "def factorial(n):\n",
    "    if n == 1:\n",
    "        return n\n",
    "    else:\n",
    "        return n*factorial(n-1)\n",
    "\n",
    "\n",
    "num = int(input(\"Enter your number: \"))\n",
    "\n",
    "if num < 0:\n",
    "    print(\"Invalid input, choose number >= 0\")\n",
    "elif num == 0:\n",
    "    print(\"Factorial of %d is %d\" %(num,0))\n",
    "else:\n",
    "    print(\"Factorial of %d is %d\" %(num,factorial(num)))\n",
    "    "
   ]
  },
  {
   "cell_type": "code",
   "execution_count": 26,
   "id": "c43b52c6",
   "metadata": {},
   "outputs": [
    {
     "name": "stdout",
     "output_type": "stream",
     "text": [
      "The BMI with height = 175.00cm and weight = 90.00kg is 29.39\n"
     ]
    }
   ],
   "source": [
    "##\n",
    "## 3) Write a Python Program to calculate your Body Mass Index?\n",
    "##\n",
    "height = 175 #(in cm)\n",
    "weight = 90 #(in kg)\n",
    "bmi = weight/(height*0.01)**2\n",
    "print(\"The BMI with height = %3.2fcm and weight = %3.2fkg is %3.2f\" %(height,weight,bmi))"
   ]
  },
  {
   "cell_type": "code",
   "execution_count": 31,
   "id": "5b3da2b9",
   "metadata": {},
   "outputs": [
    {
     "name": "stdout",
     "output_type": "stream",
     "text": [
      "The natural logarithm of number = 100 is 4.605170\n"
     ]
    }
   ],
   "source": [
    "##\n",
    "## 4) Write a Python Program to calculate the natural logarithm of any number?\n",
    "##\n",
    "import math\n",
    "num = 100\n",
    "print(\"The natural logarithm of number = %d is %f\" %(num,math.log(num)) )"
   ]
  },
  {
   "cell_type": "code",
   "execution_count": 32,
   "id": "b077045c",
   "metadata": {},
   "outputs": [
    {
     "name": "stdout",
     "output_type": "stream",
     "text": [
      "The cubic sum of first 10 natural numbers is 3025\n"
     ]
    }
   ],
   "source": [
    "##\n",
    "## 5) Write a Python Program for cube sum of first n natural numbers?\n",
    "##\n",
    "num = 10\n",
    "sum = 0\n",
    "for i in range(1,num+1):\n",
    "    sum += i**3\n",
    "    \n",
    "print(\"The cubic sum of first %d natural numbers is %d\" %(num,sum))"
   ]
  }
 ],
 "metadata": {
  "kernelspec": {
   "display_name": "Python 3",
   "language": "python",
   "name": "python3"
  },
  "language_info": {
   "codemirror_mode": {
    "name": "ipython",
    "version": 3
   },
   "file_extension": ".py",
   "mimetype": "text/x-python",
   "name": "python",
   "nbconvert_exporter": "python",
   "pygments_lexer": "ipython3",
   "version": "3.8.8"
  }
 },
 "nbformat": 4,
 "nbformat_minor": 5
}
