{
 "cells": [
  {
   "cell_type": "code",
   "execution_count": 2,
   "id": "d4590d5b",
   "metadata": {},
   "outputs": [
    {
     "name": "stdout",
     "output_type": "stream",
     "text": [
      "Enter the number of kilometres: 52\n",
      "The conversion of 52.0 km is 32.292 miles\n"
     ]
    }
   ],
   "source": [
    "##\n",
    "##1.\tWrite a Python program to convert kilometers to miles?\n",
    "## 1 km = 0.621 miles\n",
    "##\n",
    "\n",
    "km = float(input(\"Enter the number of kilometres: \"))\n",
    "miles = km*0.621\n",
    "print(f\"The conversion of {km} km is {miles} miles\")"
   ]
  },
  {
   "cell_type": "code",
   "execution_count": 4,
   "id": "382c1d28",
   "metadata": {},
   "outputs": [
    {
     "name": "stdout",
     "output_type": "stream",
     "text": [
      "Enter the temperature in celsius: 27\n",
      "The conversion of temperature from 27.0C to Fahrenheit is 80.6F\n"
     ]
    }
   ],
   "source": [
    "##\n",
    "## 2.\tWrite a Python program to convert Celsius to Fahrenheit?\n",
    "## F = (9/5)*C+32\n",
    "##\n",
    "\n",
    "celsius = float(input(\"Enter the temperature in celsius: \"))\n",
    "fahrenheit = (9/5)*celsius + 32\n",
    "print(f\"The conversion of temperature from {celsius}C to Fahrenheit is {fahrenheit}F\")"
   ]
  },
  {
   "cell_type": "code",
   "execution_count": 5,
   "id": "b8031dba",
   "metadata": {},
   "outputs": [
    {
     "name": "stdout",
     "output_type": "stream",
     "text": [
      "Enter the year: 2021\n",
      "Enter the month8\n",
      "The calendar for year = 2021 and month=8 is:      August 2021\n",
      "Mo Tu We Th Fr Sa Su\n",
      "                   1\n",
      " 2  3  4  5  6  7  8\n",
      " 9 10 11 12 13 14 15\n",
      "16 17 18 19 20 21 22\n",
      "23 24 25 26 27 28 29\n",
      "30 31\n",
      "\n"
     ]
    }
   ],
   "source": [
    "##\n",
    "## 3.\tWrite a Python program to display calendar?\n",
    "##\n",
    "import calendar\n",
    "year = int(input(\"Enter the year: \"))\n",
    "month = int(input(\"Enter the month: \"))\n",
    "print(f\"The calendar for year = {year} and month = {month} is: \",calendar.month(year,month))"
   ]
  },
  {
   "cell_type": "code",
   "execution_count": 6,
   "id": "44107ec7",
   "metadata": {},
   "outputs": [
    {
     "name": "stdout",
     "output_type": "stream",
     "text": [
      "Enter the value of a: 1\n",
      "Enter the value of b: 5\n",
      "Enter the value of c: 6\n",
      "The roots of quadratic equation for a=1, b=5, and c=6 are \n",
      " x1 = -2.0, x2 = -3.0\n"
     ]
    }
   ],
   "source": [
    "##\n",
    "## 4.\tWrite a Python program to solve quadratic equation?\n",
    "## Quadratic equation = ax^2+bx+c\n",
    "##\n",
    "\n",
    "a = int(input(\"Enter the value of a: \"))\n",
    "b = int(input(\"Enter the value of b: \"))\n",
    "c = int(input(\"Enter the value of c: \"))\n",
    "##\n",
    "## Discriminant\n",
    "##\n",
    "D = b**2-(4*a*c)\n",
    "D = D**0.5\n",
    "##\n",
    "## Solution for roots\n",
    "##\n",
    "x1 = (-b+D)/(2*a)\n",
    "x2 = (-b-D)/(2*a)\n",
    "##\n",
    "## Print the roots\n",
    "##\n",
    "print(f\"The roots of quadratic equation for a={a}, b={b}, and c={c} are \\n x1 = {x1}, x2 = {x2}\")"
   ]
  },
  {
   "cell_type": "code",
   "execution_count": 7,
   "id": "733e75eb",
   "metadata": {},
   "outputs": [
    {
     "name": "stdout",
     "output_type": "stream",
     "text": [
      "Enter the variable 1: 10\n",
      "Enter the variable 2: 20\n",
      "The variables before swapping are var1 = 10 and var2 = 20\n",
      "The variables after swapping are var1 = 20 and var2 = 10\n"
     ]
    }
   ],
   "source": [
    "##\n",
    "## 5.\tWrite a Python program to swap two variables without temp variable?\n",
    "##\n",
    "\n",
    "var1 = int(input(\"Enter the variable 1: \"))\n",
    "var2 = int(input(\"Enter the variable 2: \"))\n",
    "print(f\"The variables before swapping are var1 = {var1} and var2 = {var2}\")\n",
    "\n",
    "##\n",
    "## Swapping\n",
    "##\n",
    "\n",
    "var1 = var1+var2\n",
    "var2 = var1-var2\n",
    "var1 = var1-var2\n",
    "print(f\"The variables after swapping are var1 = {var1} and var2 = {var2}\")"
   ]
  }
 ],
 "metadata": {
  "kernelspec": {
   "display_name": "Python 3",
   "language": "python",
   "name": "python3"
  },
  "language_info": {
   "codemirror_mode": {
    "name": "ipython",
    "version": 3
   },
   "file_extension": ".py",
   "mimetype": "text/x-python",
   "name": "python",
   "nbconvert_exporter": "python",
   "pygments_lexer": "ipython3",
   "version": "3.8.8"
  }
 },
 "nbformat": 4,
 "nbformat_minor": 5
}
