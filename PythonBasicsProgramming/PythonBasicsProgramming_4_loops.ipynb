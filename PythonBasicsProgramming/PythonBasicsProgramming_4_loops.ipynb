{
 "cells": [
  {
   "cell_type": "code",
   "execution_count": 6,
   "id": "b41d62f3",
   "metadata": {},
   "outputs": [
    {
     "name": "stdout",
     "output_type": "stream",
     "text": [
      "The factorial of number 4 is 24\n"
     ]
    }
   ],
   "source": [
    "##\n",
    "## 1.\tWrite a Python Program to Find the Factorial of a Number?\n",
    "##\n",
    "\n",
    "num = 4\n",
    "numorg = num\n",
    "factorial = 1\n",
    "while num >= 1:\n",
    "    factorial = factorial*num\n",
    "    num -= 1\n",
    "else:\n",
    "    print(f\"The factorial of number {numorg} is {factorial}\")"
   ]
  },
  {
   "cell_type": "code",
   "execution_count": 8,
   "id": "7e9ed845",
   "metadata": {},
   "outputs": [
    {
     "name": "stdout",
     "output_type": "stream",
     "text": [
      "The multiplication table for the number 10 is\n",
      "10x1=10\n",
      "10x2=20\n",
      "10x3=30\n",
      "10x4=40\n",
      "10x5=50\n",
      "10x6=60\n",
      "10x7=70\n",
      "10x8=80\n",
      "10x9=90\n",
      "10x10=100\n"
     ]
    }
   ],
   "source": [
    "##\n",
    "## 2.\tWrite a Python Program to Display the multiplication Table?\n",
    "## \n",
    "num = 10\n",
    "nlimit = 10\n",
    "print(f\"The multiplication table for the number {num} is\")\n",
    "for i in range(nlimit):\n",
    "    print(f\"{num}x{i+1}={num*(i+1)}\")"
   ]
  },
  {
   "cell_type": "code",
   "execution_count": 22,
   "id": "e388f76c",
   "metadata": {},
   "outputs": [
    {
     "name": "stdout",
     "output_type": "stream",
     "text": [
      "The fibonacci sequence is\n",
      "0,1,1,2,3,5,8,13,21,34,55,89,"
     ]
    }
   ],
   "source": [
    "##\n",
    "## 3.\tWrite a Python Program to Print the Fibonacci sequence?\n",
    "##\n",
    "numLimit = 200\n",
    "prevNum = 0\n",
    "num = 1\n",
    "print(\"The fibonacci sequence is\")\n",
    "\n",
    "\n",
    "while num <= numLimit:\n",
    "    print(prevNum,end=\",\")\n",
    "    temp = num\n",
    "    num = prevNum + num\n",
    "    prevNum = temp"
   ]
  },
  {
   "cell_type": "code",
   "execution_count": 41,
   "id": "30463c78",
   "metadata": {},
   "outputs": [
    {
     "name": "stdout",
     "output_type": "stream",
     "text": [
      "Enter your number: 407\n",
      "The number 407 is an armstrong number\n"
     ]
    }
   ],
   "source": [
    "##\n",
    "## 4.\tWrite a Python Program to Check Armstrong Number?\n",
    "## Armstrong number is a number that is equal to the sum of cubes of its digits. \n",
    "##\n",
    "num = int(input(\"Enter your number: \"))\n",
    "temp = num\n",
    "sum = 0\n",
    "##\n",
    "## find number of digits\n",
    "##\n",
    "while temp > 0:\n",
    "    digit = temp%10\n",
    "    temp //= 10\n",
    "    sum += digit**3\n",
    "if num == sum:\n",
    "    print(\"The number %d is an armstrong number\" %num)\n",
    "else:\n",
    "    print(\"The number %d is not an armstrong number\" %num)"
   ]
  },
  {
   "cell_type": "code",
   "execution_count": 56,
   "id": "addf67e1",
   "metadata": {},
   "outputs": [
    {
     "name": "stdout",
     "output_type": "stream",
     "text": [
      "Enter the min value: 100\n",
      "Enter the max value: 5000\n",
      "153,370,371,407,"
     ]
    }
   ],
   "source": [
    "##\n",
    "## 5.\tWrite a Python Program to Find Armstrong Number in an Interval?\n",
    "##\n",
    "\n",
    "##\n",
    "## function to check if a number is a armstrong number\n",
    "##\n",
    "def armNumber(num):\n",
    "    temp = num\n",
    "    sum = 0\n",
    "\n",
    "    while temp > 0:\n",
    "        digit = temp%10\n",
    "        temp //= 10\n",
    "        sum += digit**3\n",
    "    if num == sum:\n",
    "        flag = True\n",
    "    else:\n",
    "        flag = False\n",
    "    \n",
    "    return flag\n",
    "\n",
    "min = int(input(\"Enter the min value: \"))\n",
    "max = int(input(\"Enter the max value: \"))\n",
    "\n",
    "for i in range(min,max+1):\n",
    "    flag = armNumber(i)\n",
    "    if flag == True:\n",
    "        print(i,end=\",\")"
   ]
  },
  {
   "cell_type": "code",
   "execution_count": 60,
   "id": "99357331",
   "metadata": {},
   "outputs": [
    {
     "name": "stdout",
     "output_type": "stream",
     "text": [
      "Enter your number: 20\n",
      "The sum of natural numbers till 20 is 210\n"
     ]
    }
   ],
   "source": [
    "##\n",
    "## 6.\tWrite a Python Program to Find the Sum of Natural Numbers\n",
    "##\n",
    "num = int(input(\"Enter your number: \"))\n",
    "typeNum = type(num)\n",
    "if num > 0 and typeNum == int:\n",
    "    sum = num*(num+1)*0.5\n",
    "    sum = int(sum)\n",
    "    print(\"The sum of natural numbers till %d is %d\" %(num,sum))\n",
    "else:\n",
    "    print(\"Enter positive integer\")\n"
   ]
  }
 ],
 "metadata": {
  "kernelspec": {
   "display_name": "Python 3",
   "language": "python",
   "name": "python3"
  },
  "language_info": {
   "codemirror_mode": {
    "name": "ipython",
    "version": 3
   },
   "file_extension": ".py",
   "mimetype": "text/x-python",
   "name": "python",
   "nbconvert_exporter": "python",
   "pygments_lexer": "ipython3",
   "version": "3.8.8"
  }
 },
 "nbformat": 4,
 "nbformat_minor": 5
}
