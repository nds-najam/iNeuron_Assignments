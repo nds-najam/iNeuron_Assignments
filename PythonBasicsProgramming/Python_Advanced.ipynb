{
 "cells": [
  {
   "cell_type": "markdown",
   "id": "b74ff95c",
   "metadata": {},
   "source": [
    "# Files"
   ]
  },
  {
   "cell_type": "code",
   "execution_count": 2,
   "id": "a67f878f",
   "metadata": {},
   "outputs": [],
   "source": [
    "filename = \"D:\\\\UmmahCoders\\\\Python_Programming\\\\Files\\\\short_text.txt\""
   ]
  },
  {
   "cell_type": "code",
   "execution_count": 3,
   "id": "c359d189",
   "metadata": {},
   "outputs": [],
   "source": [
    "fid = open(filename)"
   ]
  },
  {
   "cell_type": "code",
   "execution_count": 4,
   "id": "d991f37d",
   "metadata": {},
   "outputs": [
    {
     "name": "stdout",
     "output_type": "stream",
     "text": [
      "Scientists in the United Kingdom said they have achieved a new milestone in producing nuclear fusion energy, or imitating the way energy is produced in the Sun. Energy by nuclear fusion is one of mankindâ€™s long standing quests as it promises to be low carbon, safer than how nuclear energy is now produced and, with an efficiency that can technically exceed a 100%.\n",
      "\n",
      "\n",
      "\n",
      "A team at the Joint European Torus (JET) facility near Oxford in central England generated 59 megajoules of sustained energy during an experiment in December, more than doubling a 1997 record, the UK Atomic Energy Authority said in a statement on Monday. A kg of fusion fuel contains about 10 million times as much energy as a kg of coal, oil or gas.\n"
     ]
    }
   ],
   "source": [
    "for line in fid:\n",
    "    print(line)"
   ]
  },
  {
   "cell_type": "code",
   "execution_count": null,
   "id": "64804193",
   "metadata": {},
   "outputs": [],
   "source": []
  }
 ],
 "metadata": {
  "kernelspec": {
   "display_name": "Python 3",
   "language": "python",
   "name": "python3"
  },
  "language_info": {
   "codemirror_mode": {
    "name": "ipython",
    "version": 3
   },
   "file_extension": ".py",
   "mimetype": "text/x-python",
   "name": "python",
   "nbconvert_exporter": "python",
   "pygments_lexer": "ipython3",
   "version": "3.8.8"
  }
 },
 "nbformat": 4,
 "nbformat_minor": 5
}
