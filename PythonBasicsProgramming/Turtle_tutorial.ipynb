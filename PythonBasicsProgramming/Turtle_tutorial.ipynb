{
 "cells": [
  {
   "cell_type": "code",
   "execution_count": 2,
   "id": "0482f626",
   "metadata": {},
   "outputs": [],
   "source": [
    "#!pip3 install turtle\n",
    "#from ColabTurtle.Turtle import *\n",
    "#initializeTurtle()\n",
    "import turtle\n",
    "turtle.shape('turtle')"
   ]
  },
  {
   "cell_type": "code",
   "execution_count": null,
   "id": "bf759c68",
   "metadata": {},
   "outputs": [],
   "source": []
  }
 ],
 "metadata": {
  "kernelspec": {
   "display_name": "Python 3",
   "language": "python",
   "name": "python3"
  },
  "language_info": {
   "codemirror_mode": {
    "name": "ipython",
    "version": 3
   },
   "file_extension": ".py",
   "mimetype": "text/x-python",
   "name": "python",
   "nbconvert_exporter": "python",
   "pygments_lexer": "ipython3",
   "version": "3.8.8"
  }
 },
 "nbformat": 4,
 "nbformat_minor": 5
}
